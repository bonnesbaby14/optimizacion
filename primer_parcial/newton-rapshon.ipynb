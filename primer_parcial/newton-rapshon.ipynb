{
 "cells": [
  {
   "cell_type": "code",
   "execution_count": 2,
   "metadata": {},
   "outputs": [
    {
     "name": "stdout",
     "output_type": "stream",
     "text": [
      "(4.0, 0.0)\n",
      "4.2666666666666675\n",
      "4.000061036087587\n",
      "4.0\n",
      "se termino\n",
      "4.0\n"
     ]
    }
   ],
   "source": [
    "import math\n",
    "\n",
    "def funcion(x):\n",
    "    return math.pow(x,2)-(4*x)\n",
    "def derivada(x):\n",
    "    return (2*x)-4\n",
    "\n",
    "\n",
    "def raices(a,b,c):\n",
    "    \n",
    "   \n",
    "    return ((-b+math.sqrt((math.pow(b,2)-(4*a*c))))/2*a,(-b-math.sqrt((math.pow(b,2)-(4*a*c))))/2*a) \n",
    "\n",
    "print(raices(1,-4,0))\n",
    "\n",
    "\n",
    "def newton(inicial):\n",
    "    return inicial-( funcion(inicial)/derivada(inicial))\n",
    "\n",
    "\n",
    "inicial=8\n",
    "anterior=0;\n",
    "while True:\n",
    "    inicial=newton(inicial)\n",
    "    if inicial!=anterior:\n",
    "        inicial=newton(inicial)\n",
    "        anterior=inicial\n",
    "        print(inicial)\n",
    " \n",
    "    else:\n",
    "        print(\"se termino\")\n",
    "        print(inicial)\n",
    "        break\n",
    "\n"
   ]
  }
 ],
 "metadata": {
  "kernelspec": {
   "display_name": "ceti",
   "language": "python",
   "name": "python3"
  },
  "language_info": {
   "codemirror_mode": {
    "name": "ipython",
    "version": 3
   },
   "file_extension": ".py",
   "mimetype": "text/x-python",
   "name": "python",
   "nbconvert_exporter": "python",
   "pygments_lexer": "ipython3",
   "version": "3.9.13"
  },
  "orig_nbformat": 4,
  "vscode": {
   "interpreter": {
    "hash": "2531742f0e8e0a60b0ae9a79fa85c6ce21ba9aa6a340d232e05a132977e28018"
   }
  }
 },
 "nbformat": 4,
 "nbformat_minor": 2
}
